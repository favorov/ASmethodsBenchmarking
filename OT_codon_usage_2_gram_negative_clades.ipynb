{
  "nbformat": 4,
  "nbformat_minor": 0,
  "metadata": {
    "kernelspec": {
      "display_name": "Python 3",
      "language": "python",
      "name": "python3"
    },
    "language_info": {
      "codemirror_mode": {
        "name": "ipython",
        "version": 3
      },
      "file_extension": ".py",
      "mimetype": "text/x-python",
      "name": "python",
      "nbconvert_exporter": "python",
      "pygments_lexer": "ipython3",
      "version": "3.8.3"
    },
    "colab": {
      "name": "OT-codon-usage-2-gram-negative-clades.ipynb",
      "provenance": [],
      "collapsed_sections": [],
      "include_colab_link": true
    }
  },
  "cells": [
    {
      "cell_type": "markdown",
      "metadata": {
        "id": "view-in-github",
        "colab_type": "text"
      },
      "source": [
        "<a href=\"https://colab.research.google.com/github/favorov/ASmethodsBenchmarking/blob/master/OT_codon_usage_2_gram_negative_clades.ipynb\" target=\"_parent\"><img src=\"https://colab.research.google.com/assets/colab-badge.svg\" alt=\"Open In Colab\"/></a>"
      ]
    },
    {
      "cell_type": "code",
      "metadata": {
        "id": "f6u9h3y_Ioex",
        "outputId": "5442bb26-c67e-4d01-f01a-73068cbcac48",
        "colab": {
          "base_uri": "https://localhost:8080/"
        }
      },
      "source": [
        "import os\n",
        "import pandas as pd\n",
        "import numpy as np\n",
        "import seaborn as sns\n",
        "from matplotlib import pyplot as plt\n",
        "\n",
        "#trying to import ot\n",
        "#if it does not work, pip install -- if fails, we will get error\n",
        "try:\n",
        "  import ot\n",
        "except ImportError:\n",
        "  !pip install pot\n",
        "  import ot\n",
        "\n",
        "goocola=True\n",
        "try:\n",
        "  from google.colab import drive\n",
        "  drive.mount('/content/drive')\n",
        "  os.chdir('/content/drive/My Drive/OT+Codon usage colab')\n",
        "except ImportError:\n",
        "  goocola=False\n",
        "#Are we in google clabs?? If somebody cares, the goocola boolean says it\n",
        "#Whatever, the current folder is ready for read/write\n",
        "#if we are in collab, it is My Drive/OT+Codon usage colab \n"
      ],
      "execution_count": 108,
      "outputs": [
        {
          "output_type": "stream",
          "text": [
            "Drive already mounted at /content/drive; to attempt to forcibly remount, call drive.mount(\"/content/drive\", force_remount=True).\n"
          ],
          "name": "stdout"
        }
      ]
    },
    {
      "cell_type": "code",
      "metadata": {
        "id": "R61PO7_1IgEY"
      },
      "source": [
        "#extract information about the frequency distribution\n",
        "#def extract_freq(a, n, nc):\n",
        "#        N   = a[n - 1] + a[n]\n",
        "#        out = [0] * nc\n",
        "#        for m in range(nc):\n",
        "#            out[m] = a[n - 1 + m] / N\n",
        "#        return(out)\n",
        "\n",
        "#def extract_freq_new(a, b):\n",
        "#        N   = a + b\n",
        "#        j   = [a, b]\n",
        "#        out = [0] * 2\n",
        "#        for m in range(2):\n",
        "#            out[m] = j[m] / N\n",
        "#        return(out)\n",
        "\n",
        "#counts is list. Python get lists by reference, so we modify them\n",
        "def counts_to_freqs(counts):\n",
        "    length=len(counts)\n",
        "    csum=sum(counts)\n",
        "    for i in range(length):\n",
        "        counts[i]=counts[i]/csum\n",
        "    return(counts)\n",
        "\n",
        "\n",
        "\n"
      ],
      "execution_count": 109,
      "outputs": []
    },
    {
      "cell_type": "code",
      "metadata": {
        "id": "GmTfsXi7IgEQ",
        "outputId": "4d108262-b67a-48cf-b790-da0671003f60",
        "colab": {
          "base_uri": "https://localhost:8080/"
        }
      },
      "source": [
        "\n",
        "#just a test for pd.read_excel\n",
        "file_name = 'phen_small.xlsx'\n",
        "\n",
        "df = pd.read_excel(io = file_name, header = [0, 1])\n",
        "print(df.head(5))  # print first 5 rows of the dataframe"
      ],
      "execution_count": 110,
      "outputs": [
        {
          "output_type": "stream",
          "text": [
            "  Phenylalanine (Phe/F)            ...                    \n",
            "                  # CDS Organelle  ...       TTT       TTC\n",
            "0               3888949   genomic  ...  25537177  18665561\n",
            "1               2710660   genomic  ...   3479845  24457252\n",
            "2               2141118   genomic  ...  12017184  12262306\n",
            "3               1387878   genomic  ...    966339  14576929\n",
            "4               1462644   genomic  ...  13657458   4995245\n",
            "\n",
            "[5 rows x 7 columns]\n"
          ],
          "name": "stdout"
        }
      ]
    },
    {
      "cell_type": "code",
      "metadata": {
        "id": "lBBVwmlMIgEd",
        "outputId": "8f0bc22f-cb07-4085-a92f-11095d78494a",
        "colab": {
          "base_uri": "https://localhost:8080/"
        }
      },
      "source": [
        "#extract test data\n",
        "\n",
        "M = [[0, 1], [1, 0]]\n",
        "a = counts_to_freqs([df.iloc[0,5],df.iloc[0,6]])\n",
        "b = counts_to_freqs([df.iloc[1,5],df.iloc[1,6]])\n",
        "#eps = 200\n",
        "#print(type(df.iloc[1][1]))\n",
        "#simple ot test\n",
        "ot.emd2(a, b, M)\n"
      ],
      "execution_count": 111,
      "outputs": [
        {
          "output_type": "execute_result",
          "data": {
            "text/plain": [
              "0.45316839065367426"
            ]
          },
          "metadata": {
            "tags": []
          },
          "execution_count": 111
        }
      ]
    },
    {
      "cell_type": "code",
      "metadata": {
        "id": "YXlji7wKm-xv",
        "outputId": "169f7990-9ad7-4d3b-d93a-3b34c02ed1f5",
        "colab": {
          "base_uri": "https://localhost:8080/"
        }
      },
      "source": [
        "file_name = 'phen.xlsx'\n",
        "\n",
        "df = pd.read_excel(io = file_name, header = [0, 1])\n",
        "print(df.head(5))  # print first 5 rows of the dataframe"
      ],
      "execution_count": 112,
      "outputs": [
        {
          "output_type": "stream",
          "text": [
            "  Phenylalanine (Phe/F)                  ...                                    \n",
            "                  # CDS Organelle TaxID  ...     # TTC TTT-Fraction TTC-Fraction\n",
            "0               3888949   genomic   562  ...  18665561    57.772840    42.227160\n",
            "1               2710660   genomic   520  ...  24457252    12.456001    87.543999\n",
            "2               2141118   genomic   573  ...  12262306    49.495208    50.504792\n",
            "3               1387878   genomic   287  ...  14576929     6.217090    93.782910\n",
            "4               1462644   genomic  1280  ...   4995245    73.219726    26.780274\n",
            "\n",
            "[5 rows x 9 columns]\n"
          ],
          "name": "stdout"
        }
      ]
    },
    {
      "cell_type": "code",
      "metadata": {
        "id": "Ct5DxzudnfDj",
        "outputId": "fb8e9a24-df89-41b9-ba14-72483fdd7df4",
        "colab": {
          "base_uri": "https://localhost:8080/"
        }
      },
      "source": [
        "#just a test line: we want to know that all of them are 'genomic'\n",
        "#and, we look hows to refer to columns\n",
        "all(df.iloc[:,1]=='genomic')"
      ],
      "execution_count": 113,
      "outputs": [
        {
          "output_type": "execute_result",
          "data": {
            "text/plain": [
              "True"
            ]
          },
          "metadata": {
            "tags": []
          },
          "execution_count": 113
        }
      ]
    },
    {
      "cell_type": "code",
      "metadata": {
        "id": "xUma-mwjzoo5"
      },
      "source": [
        "#we remove short things that are phages, etc -- here it makes sense to plot\n",
        "#the distribution of all the stuff by length, probaly it is bimodal\n",
        "df=df[df.iloc[:,3]>=100000]"
      ],
      "execution_count": 114,
      "outputs": []
    },
    {
      "cell_type": "code",
      "metadata": {
        "id": "UbNnLkV8uOT9",
        "outputId": "db2f0168-6f69-4909-d53b-7ec5af1b0c0c",
        "colab": {
          "base_uri": "https://localhost:8080/",
          "height": 431
        }
      },
      "source": [
        "orgainm_name=df.iloc[:,4]\n",
        "esch_index=orgainm_name.str.contains('Escherichia',regex=False)\n",
        "kleb_index=orgainm_name.str.contains('Klebsiella',regex=False)\n",
        "df[esch_index | kleb_index]\n"
      ],
      "execution_count": 115,
      "outputs": [
        {
          "output_type": "execute_result",
          "data": {
            "text/html": [
              "<div>\n",
              "<style scoped>\n",
              "    .dataframe tbody tr th:only-of-type {\n",
              "        vertical-align: middle;\n",
              "    }\n",
              "\n",
              "    .dataframe tbody tr th {\n",
              "        vertical-align: top;\n",
              "    }\n",
              "\n",
              "    .dataframe thead tr th {\n",
              "        text-align: left;\n",
              "    }\n",
              "</style>\n",
              "<table border=\"1\" class=\"dataframe\">\n",
              "  <thead>\n",
              "    <tr>\n",
              "      <th></th>\n",
              "      <th colspan=\"9\" halign=\"left\">Phenylalanine (Phe/F)</th>\n",
              "    </tr>\n",
              "    <tr>\n",
              "      <th></th>\n",
              "      <th># CDS</th>\n",
              "      <th>Organelle</th>\n",
              "      <th>TaxID</th>\n",
              "      <th># Codons</th>\n",
              "      <th>Species</th>\n",
              "      <th># TTT</th>\n",
              "      <th># TTC</th>\n",
              "      <th>TTT-Fraction</th>\n",
              "      <th>TTC-Fraction</th>\n",
              "    </tr>\n",
              "  </thead>\n",
              "  <tbody>\n",
              "    <tr>\n",
              "      <th>0</th>\n",
              "      <td>3888949</td>\n",
              "      <td>genomic</td>\n",
              "      <td>562</td>\n",
              "      <td>1149753562</td>\n",
              "      <td>Escherichia coli</td>\n",
              "      <td>25537177</td>\n",
              "      <td>18665561</td>\n",
              "      <td>57.772840</td>\n",
              "      <td>42.227160</td>\n",
              "    </tr>\n",
              "    <tr>\n",
              "      <th>2</th>\n",
              "      <td>2141118</td>\n",
              "      <td>genomic</td>\n",
              "      <td>573</td>\n",
              "      <td>635536395</td>\n",
              "      <td>Klebsiella pneumoniae</td>\n",
              "      <td>12017184</td>\n",
              "      <td>12262306</td>\n",
              "      <td>49.495208</td>\n",
              "      <td>50.504792</td>\n",
              "    </tr>\n",
              "    <tr>\n",
              "      <th>25</th>\n",
              "      <td>231131</td>\n",
              "      <td>genomic</td>\n",
              "      <td>72407</td>\n",
              "      <td>69067429</td>\n",
              "      <td>Klebsiella pneumoniae subsp. pneumoniae</td>\n",
              "      <td>1306587</td>\n",
              "      <td>1336942</td>\n",
              "      <td>49.425862</td>\n",
              "      <td>50.574138</td>\n",
              "    </tr>\n",
              "    <tr>\n",
              "      <th>44</th>\n",
              "      <td>168232</td>\n",
              "      <td>genomic</td>\n",
              "      <td>548</td>\n",
              "      <td>50837616</td>\n",
              "      <td>Klebsiella aerogenes</td>\n",
              "      <td>955433</td>\n",
              "      <td>1001273</td>\n",
              "      <td>48.828644</td>\n",
              "      <td>51.171356</td>\n",
              "    </tr>\n",
              "    <tr>\n",
              "      <th>57</th>\n",
              "      <td>128713</td>\n",
              "      <td>genomic</td>\n",
              "      <td>83334</td>\n",
              "      <td>37840248</td>\n",
              "      <td>Escherichia coli O157:H7</td>\n",
              "      <td>837069</td>\n",
              "      <td>596619</td>\n",
              "      <td>58.385716</td>\n",
              "      <td>41.614284</td>\n",
              "    </tr>\n",
              "    <tr>\n",
              "      <th>...</th>\n",
              "      <td>...</td>\n",
              "      <td>...</td>\n",
              "      <td>...</td>\n",
              "      <td>...</td>\n",
              "      <td>...</td>\n",
              "      <td>...</td>\n",
              "      <td>...</td>\n",
              "      <td>...</td>\n",
              "      <td>...</td>\n",
              "    </tr>\n",
              "    <tr>\n",
              "      <th>8924</th>\n",
              "      <td>588</td>\n",
              "      <td>genomic</td>\n",
              "      <td>1874688</td>\n",
              "      <td>106719</td>\n",
              "      <td>Escherichia phage vB_Eco_slurp01</td>\n",
              "      <td>3170</td>\n",
              "      <td>1611</td>\n",
              "      <td>66.304120</td>\n",
              "      <td>33.695880</td>\n",
              "    </tr>\n",
              "    <tr>\n",
              "      <th>8929</th>\n",
              "      <td>576</td>\n",
              "      <td>genomic</td>\n",
              "      <td>2419744</td>\n",
              "      <td>105950</td>\n",
              "      <td>Escherichia phage Ecwhy_1</td>\n",
              "      <td>2716</td>\n",
              "      <td>2003</td>\n",
              "      <td>57.554567</td>\n",
              "      <td>42.445433</td>\n",
              "    </tr>\n",
              "    <tr>\n",
              "      <th>8935</th>\n",
              "      <td>534</td>\n",
              "      <td>genomic</td>\n",
              "      <td>1147094</td>\n",
              "      <td>104909</td>\n",
              "      <td>Klebsiella phage vB_KleM_RaK2</td>\n",
              "      <td>3347</td>\n",
              "      <td>1475</td>\n",
              "      <td>69.411033</td>\n",
              "      <td>30.588967</td>\n",
              "    </tr>\n",
              "    <tr>\n",
              "      <th>8943</th>\n",
              "      <td>542</td>\n",
              "      <td>genomic</td>\n",
              "      <td>2060721</td>\n",
              "      <td>103952</td>\n",
              "      <td>Escherichia phage T2</td>\n",
              "      <td>3436</td>\n",
              "      <td>1191</td>\n",
              "      <td>74.259780</td>\n",
              "      <td>25.740220</td>\n",
              "    </tr>\n",
              "    <tr>\n",
              "      <th>8958</th>\n",
              "      <td>551</td>\n",
              "      <td>genomic</td>\n",
              "      <td>1273738</td>\n",
              "      <td>102061</td>\n",
              "      <td>Escherichia phage PBECO4</td>\n",
              "      <td>3041</td>\n",
              "      <td>1563</td>\n",
              "      <td>66.051260</td>\n",
              "      <td>33.948740</td>\n",
              "    </tr>\n",
              "  </tbody>\n",
              "</table>\n",
              "<p>198 rows × 9 columns</p>\n",
              "</div>"
            ],
            "text/plain": [
              "     Phenylalanine (Phe/F)            ...                          \n",
              "                     # CDS Organelle  ... TTT-Fraction TTC-Fraction\n",
              "0                  3888949   genomic  ...    57.772840    42.227160\n",
              "2                  2141118   genomic  ...    49.495208    50.504792\n",
              "25                  231131   genomic  ...    49.425862    50.574138\n",
              "44                  168232   genomic  ...    48.828644    51.171356\n",
              "57                  128713   genomic  ...    58.385716    41.614284\n",
              "...                    ...       ...  ...          ...          ...\n",
              "8924                   588   genomic  ...    66.304120    33.695880\n",
              "8929                   576   genomic  ...    57.554567    42.445433\n",
              "8935                   534   genomic  ...    69.411033    30.588967\n",
              "8943                   542   genomic  ...    74.259780    25.740220\n",
              "8958                   551   genomic  ...    66.051260    33.948740\n",
              "\n",
              "[198 rows x 9 columns]"
            ]
          },
          "metadata": {
            "tags": []
          },
          "execution_count": 115
        }
      ]
    },
    {
      "cell_type": "code",
      "metadata": {
        "id": "GU66uJUxIgEn",
        "outputId": "854c0a76-efb9-4c44-f699-538e8c9541e6",
        "colab": {
          "base_uri": "https://localhost:8080/",
          "height": 229
        }
      },
      "source": [
        "#extract type of bacteria\n",
        "#import xlrd\n",
        "#import xlsxwriter\n",
        "\n",
        "#wb_kleb = xlsxwriter.Workbook('Kleb.xlsx')\n",
        "#wk = wb_kleb.add_worksheet()\n",
        "#count_kleb = 0\n",
        "\n",
        "#wb_ecoli = xlsxwriter.Workbook('Ecoli.xlsx')\n",
        "#we = wb_ecoli.add_worksheet()\n",
        "#count_ecoli = 0\n",
        "\n",
        "\n",
        "workbook = xlrd.open_workbook('phen.xlsx')\n",
        "for sheet in workbook.sheets():\n",
        "    for row in range(sheet.nrows):\n",
        "        #print(row)\n",
        "        if (row > 1):\n",
        "            q = sheet.row(row)[4].value.split()\n",
        "            q = set(q)\n",
        "            if (len(q.intersection({'Klebsiella'})) > 0):\n",
        "                count_kleb = count_kleb + 1\n",
        "                l = sheet.row(row)\n",
        "                for n in range(len(l)):\n",
        "                    wk.write(count_kleb, n, l[n].value)\n",
        "               \n",
        "            elif (len(q.intersection({'Escherichia'})) > 0):\n",
        "                count_ecoli = count_ecoli + 1\n",
        "                l = sheet.row(row)\n",
        "                for n in range(len(l)):\n",
        "                    we.write(count_ecoli, n, l[n].value)\n",
        "wb_kleb.close() \n",
        "wb_ecoli.close() "
      ],
      "execution_count": 116,
      "outputs": [
        {
          "output_type": "error",
          "ename": "NameError",
          "evalue": "ignored",
          "traceback": [
            "\u001b[0;31m---------------------------------------------------------------------------\u001b[0m",
            "\u001b[0;31mNameError\u001b[0m                                 Traceback (most recent call last)",
            "\u001b[0;32m<ipython-input-116-d1a96f8d7051>\u001b[0m in \u001b[0;36m<module>\u001b[0;34m()\u001b[0m\n\u001b[1;32m     12\u001b[0m \u001b[0;34m\u001b[0m\u001b[0m\n\u001b[1;32m     13\u001b[0m \u001b[0;34m\u001b[0m\u001b[0m\n\u001b[0;32m---> 14\u001b[0;31m \u001b[0mworkbook\u001b[0m \u001b[0;34m=\u001b[0m \u001b[0mxlrd\u001b[0m\u001b[0;34m.\u001b[0m\u001b[0mopen_workbook\u001b[0m\u001b[0;34m(\u001b[0m\u001b[0;34m'phen.xlsx'\u001b[0m\u001b[0;34m)\u001b[0m\u001b[0;34m\u001b[0m\u001b[0;34m\u001b[0m\u001b[0m\n\u001b[0m\u001b[1;32m     15\u001b[0m \u001b[0;32mfor\u001b[0m \u001b[0msheet\u001b[0m \u001b[0;32min\u001b[0m \u001b[0mworkbook\u001b[0m\u001b[0;34m.\u001b[0m\u001b[0msheets\u001b[0m\u001b[0;34m(\u001b[0m\u001b[0;34m)\u001b[0m\u001b[0;34m:\u001b[0m\u001b[0;34m\u001b[0m\u001b[0;34m\u001b[0m\u001b[0m\n\u001b[1;32m     16\u001b[0m     \u001b[0;32mfor\u001b[0m \u001b[0mrow\u001b[0m \u001b[0;32min\u001b[0m \u001b[0mrange\u001b[0m\u001b[0;34m(\u001b[0m\u001b[0msheet\u001b[0m\u001b[0;34m.\u001b[0m\u001b[0mnrows\u001b[0m\u001b[0;34m)\u001b[0m\u001b[0;34m:\u001b[0m\u001b[0;34m\u001b[0m\u001b[0;34m\u001b[0m\u001b[0m\n",
            "\u001b[0;31mNameError\u001b[0m: name 'xlrd' is not defined"
          ]
        }
      ]
    },
    {
      "cell_type": "code",
      "metadata": {
        "id": "frRhc5yzjycW"
      },
      "source": [
        ""
      ],
      "execution_count": null,
      "outputs": []
    },
    {
      "cell_type": "code",
      "metadata": {
        "id": "XAMWuJBTIgEz"
      },
      "source": [
        "#read data\n",
        "ecoli = []\n",
        "dfe = pd.read_excel(io = 'Ecoli.xlsx')\n",
        "for n in range(len(dfe)):\n",
        "    ecoli.append(extract_freq_new(dfe.iloc[n, 5], dfe.iloc[n, 6]))\n",
        "    \n",
        "kleb = []\n",
        "dfk = pd.read_excel(io = 'Kleb.xlsx')\n",
        "for n in range(len(dfk)):\n",
        "    kleb.append(extract_freq_new(dfk.iloc[n, 5], dfk.iloc[n, 6]))\n",
        "\n",
        "out = ecoli + kleb   \n",
        "\n",
        "wb_dist = xlsxwriter.Workbook('dist1.xlsx')\n",
        "w = wb_dist.add_worksheet()\n",
        "\n",
        "for n in range(len(out)):\n",
        "    for m in range(len(out)):\n",
        "        if (m <= n):\n",
        "            w.write(n, m, ot.emd2(out[n], out[m], M))\n",
        "\n",
        "\n",
        "wb_dist.close()  \n",
        "\n"
      ],
      "execution_count": null,
      "outputs": []
    },
    {
      "cell_type": "code",
      "metadata": {
        "id": "U0L9ZfJOIgE2"
      },
      "source": [
        "import matplotlib.pyplot as plt\n",
        "dist = pd.read_excel(io = 'dist1.xlsx', header = [0])\n"
      ],
      "execution_count": null,
      "outputs": []
    },
    {
      "cell_type": "code",
      "metadata": {
        "id": "5T-jYJ4TIgE6"
      },
      "source": [
        "print(len(ecoli), len(kleb))\n",
        "print(np.mean(dist[0][0:751]))\n",
        "print(np.mean(dist[0][752:len(out)]))"
      ],
      "execution_count": null,
      "outputs": []
    },
    {
      "cell_type": "code",
      "metadata": {
        "id": "Re7cW1Ntofol"
      },
      "source": [
        "print(m,n,len(out))"
      ],
      "execution_count": null,
      "outputs": []
    },
    {
      "cell_type": "code",
      "metadata": {
        "id": "ki5GwAz-IgE-"
      },
      "source": [
        "print(type(dist))"
      ],
      "execution_count": null,
      "outputs": []
    },
    {
      "cell_type": "code",
      "metadata": {
        "id": "iFSkDdHnIgFB"
      },
      "source": [
        "print(np.mean(dist.iloc[1:751, 0]))\n",
        "print(np.mean(dist.iloc[752:1102, 0]))\n",
        "\n",
        "#print(np.mean(dist.iloc[len(out), 1:751]))\n",
        "#print(np.mean(dist.iloc[len(out), 752:len(out)]))\n",
        "print(np.mean(dist.iloc[1101, 0:751]))\n",
        "print(np.mean(dist.iloc[1101, 752:1101]))"
      ],
      "execution_count": null,
      "outputs": []
    },
    {
      "cell_type": "code",
      "metadata": {
        "id": "xmZmi6cQIgFE"
      },
      "source": [
        "import seaborn as sns\n",
        "import pandas as pd\n",
        "from matplotlib import pyplot as plt\n",
        "\n",
        "\n",
        "\n",
        "# Prepare a vector of color mapped to the 'cyl' column\n",
        "my_palette = dict(zip(df.cyl.unique(), [\"orange\",\"yellow\",\"brown\"]))\n",
        "row_colors = df.cyl.map(my_palette)\n",
        " \n",
        "# plot\n",
        "sns.clustermap(df, metric=\"correlation\", method=\"single\", cmap=\"Blues\", standard_scale=1, row_colors=row_colors)\n",
        "\n"
      ],
      "execution_count": null,
      "outputs": []
    },
    {
      "cell_type": "code",
      "metadata": {
        "id": "PV9zSTd2IgFH"
      },
      "source": [
        "df + np.transpose(df)"
      ],
      "execution_count": null,
      "outputs": []
    },
    {
      "cell_type": "code",
      "metadata": {
        "id": "u-LPt8McIgFK"
      },
      "source": [
        ""
      ],
      "execution_count": null,
      "outputs": []
    }
  ]
}